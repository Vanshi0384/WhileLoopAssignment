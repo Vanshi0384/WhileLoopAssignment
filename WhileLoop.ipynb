{
 "cells": [
  {
   "cell_type": "markdown",
   "id": "e1c4fd00-c751-4790-a9f9-c261cd9a8d02",
   "metadata": {},
   "source": [
    "# While Loop Assignment"
   ]
  },
  {
   "cell_type": "markdown",
   "id": "c096abd3-2833-4b66-baf0-8a824c10e423",
   "metadata": {},
   "source": [
    "Question 1:"
   ]
  },
  {
   "cell_type": "code",
   "execution_count": 2,
   "id": "1990a381-d27d-4664-80ad-3f79b6931555",
   "metadata": {},
   "outputs": [
    {
     "name": "stdout",
     "output_type": "stream",
     "text": [
      "List of odd numbers between 1 and 25: [1, 3, 5, 7, 9, 11, 13, 15, 17, 19, 21, 23, 25]\n"
     ]
    }
   ],
   "source": [
    "# The keyword used to create a function in Python is def.\n",
    "\n",
    "def get_odd_numbers(start, end):\n",
    "\n",
    "  # Create an empty list to store odd numbers\n",
    "  odd_numbers = []\n",
    "\n",
    "  # Loop through numbers from start to end\n",
    "  for num in range(start, end + 1):\n",
    "    # Check if the number is odd using the modulo operator\n",
    "    if num % 2 != 0:\n",
    "      odd_numbers.append(num)\n",
    "\n",
    "  # Return the list of odd numbers\n",
    "  return odd_numbers\n",
    "\n",
    "# Get odd numbers between 1 and 25\n",
    "odd_list = get_odd_numbers(1, 25)\n",
    "\n",
    "# Print the list of odd numbers\n",
    "print(\"List of odd numbers between 1 and 25:\", odd_list)\n"
   ]
  },
  {
   "cell_type": "markdown",
   "id": "daa9e606-d96b-4863-84c1-52e0baa9e2cb",
   "metadata": {},
   "source": [
    "Question 2:"
   ]
  },
  {
   "cell_type": "markdown",
   "id": "dad0bdd2-21b4-459c-ad2b-4484e722a8b0",
   "metadata": {},
   "source": [
    "*args and **kwargs are special operators used in Python function definitions to handle variable-length arguments. Here's a breakdown of their usage and example functions to demonstrate their benefits:\n",
    "\n",
    "*1. args (Arbitrary Arguments):\n",
    "\n",
    "Used to capture an arbitrary number of positional arguments passed to a function.\n",
    "These arguments are stored as a tuple inside the function."
   ]
  },
  {
   "cell_type": "code",
   "execution_count": 3,
   "id": "2a4238f4-ba07-4116-a7c3-7b1454f03a03",
   "metadata": {},
   "outputs": [
    {
     "name": "stdout",
     "output_type": "stream",
     "text": [
      "Average: 5.0\n",
      "Average: 10.0\n"
     ]
    }
   ],
   "source": [
    "def calculate_average(*args):\n",
    "\n",
    "  # Check if any arguments are provided\n",
    "  if not args:\n",
    "    print(\"Error: No arguments provided!\")\n",
    "    return None\n",
    "\n",
    "  # Calculate the sum of all arguments\n",
    "  total_sum = sum(args)\n",
    "\n",
    "  # Calculate and return the average\n",
    "  average = total_sum / len(args)\n",
    "  return average\n",
    "\n",
    "# Example usage: Calculate average of 2, 4, 6, and 8\n",
    "average_result = calculate_average(2, 4, 6, 8)\n",
    "print(\"Average:\", average_result)\n",
    "\n",
    "# Example usage: Calculate average with single argument (error)\n",
    "average_result = calculate_average(10)\n",
    "print(\"Average:\", average_result)\n"
   ]
  },
  {
   "cell_type": "markdown",
   "id": "d3844a0d-2db8-4d8b-8eae-2692cbbc0c8a",
   "metadata": {},
   "source": [
    "Question 3:"
   ]
  },
  {
   "cell_type": "markdown",
   "id": "45c5d3bd-e423-4382-9e75-549d157c2dea",
   "metadata": {},
   "source": [
    "An iterator in Python is an object that represents a sequence of items and allows you to access them one at a time. It provides a way to efficiently loop through elements without loading the entire sequence into memory at once.\n",
    "Here's a breakdown of the methods used to work with iterators:\n",
    "\n",
    "1. iter() method:\n",
    "\n",
    "This method is used to initialize an iterator object from a sequence like a list, tuple, or string.\n",
    "It returns an iterator object that remembers its position within the sequence.\n",
    "2. next() method:\n",
    "\n",
    "This method is used to iterate over the elements in the sequence represented by the iterator object.\n",
    "Each time you call next(), it returns the next element in the sequence.\n",
    "If there are no more elements left, a StopIteration exception is raised.\n",
    "Here's an example demonstrating how to use these methods to print the first five elements of the given list:\n",
    "\n"
   ]
  },
  {
   "cell_type": "code",
   "execution_count": 4,
   "id": "f04fe418-dc42-40d0-afa6-b6be1d8f8e91",
   "metadata": {},
   "outputs": [
    {
     "name": "stdout",
     "output_type": "stream",
     "text": [
      "2\n",
      "4\n",
      "6\n",
      "8\n",
      "10\n"
     ]
    }
   ],
   "source": [
    "\n",
    "# Sample list\n",
    "number_list = [2, 4, 6, 8, 10, 12, 14, 16, 18, 20]\n",
    "\n",
    "# Create an iterator object from the list\n",
    "number_iterator = iter(number_list)\n",
    "\n",
    "# Print the first five elements using the next() method\n",
    "for i in range(5):\n",
    "  print(next(number_iterator))"
   ]
  },
  {
   "cell_type": "markdown",
   "id": "ac3b08a7-4e1e-4dd0-adb9-86fb57fb78f8",
   "metadata": {},
   "source": [
    "Question 4:"
   ]
  },
  {
   "cell_type": "markdown",
   "id": "aa8f8bcf-2573-46e9-ad58-ed8663057075",
   "metadata": {},
   "source": [
    "A generator function in Python is a special type of function that returns an iterator object. Unlike a regular function that returns a single value after execution, a generator function yields a sequence of values using the yield keyword. This allows for creating iterators on-the-fly without the need for explicit loop control or building large data structures in memory.\n",
    "\n",
    "Here's a breakdown of why the yield keyword is used in generator functions:\n",
    "\n",
    "Pausing Execution: When the yield keyword is encountered within the function, the function's execution pauses, and the current state (including variable values) is preserved. The yielded value is returned to the caller.\n",
    "Resuming Execution: When the iterator object created by the generator function is used in a loop (like a for loop), the function resumes execution from the point where it last yielded a value. This cycle of yielding and resuming continues until there are no more values to yield, and the generator function terminates."
   ]
  },
  {
   "cell_type": "code",
   "execution_count": 5,
   "id": "c2a315ff-c1cb-4719-b80c-ad171fa98ab2",
   "metadata": {},
   "outputs": [
    {
     "name": "stdout",
     "output_type": "stream",
     "text": [
      "2\n",
      "4\n",
      "6\n",
      "8\n",
      "10\n"
     ]
    }
   ],
   "source": [
    "def generate_even_numbers(limit):\n",
    "  # Loop from 2 to the limit (inclusive) with a step of 2\n",
    "  for num in range(2, limit + 1, 2):\n",
    "    yield num  # Pause execution and yield the current even number\n",
    "\n",
    "# Get even numbers up to 10\n",
    "even_number_generator = generate_even_numbers(10)\n",
    "\n",
    "# Print even numbers using a for loop (utilises the iterator)\n",
    "for even_number in even_number_generator:\n",
    "  print(even_number)\n"
   ]
  },
  {
   "cell_type": "markdown",
   "id": "74649ae3-16d3-41d6-9089-2be23b624cc1",
   "metadata": {},
   "source": [
    "Question 5"
   ]
  },
  {
   "cell_type": "code",
   "execution_count": 6,
   "id": "3b113b74-cbff-4524-a6ca-5a581f3c3d04",
   "metadata": {},
   "outputs": [
    {
     "name": "stdout",
     "output_type": "stream",
     "text": [
      "2\n",
      "4\n",
      "6\n",
      "8\n",
      "10\n",
      "14\n",
      "16\n",
      "20\n",
      "22\n",
      "26\n",
      "28\n",
      "32\n",
      "34\n",
      "38\n",
      "44\n",
      "46\n",
      "52\n",
      "58\n",
      "62\n",
      "64\n"
     ]
    }
   ],
   "source": [
    "def is_prime(num):\n",
    "  if num <= 1:\n",
    "    return False\n",
    "  if num <= 3:\n",
    "    return True\n",
    "\n",
    "  # Check divisibility only by odd numbers from 3 to the square root of num\n",
    "  for i in range(3, int(num**0.5) + 1, 2):\n",
    "    if num % i == 0:\n",
    "      return False\n",
    "\n",
    "  return True\n",
    "\n",
    "def generate_primes(limit):\n",
    "\n",
    "  # Start from 2 (first prime number)\n",
    "  num = 2\n",
    "  while num < limit:\n",
    "    # Check if the current number is prime\n",
    "    if is_prime(num):\n",
    "      yield num\n",
    "    # Move to the next odd number\n",
    "    num += 2\n",
    "\n",
    "# Generate first 20 prime numbers\n",
    "prime_generator = generate_primes(1000)\n",
    "\n",
    "# Print the first 20 prime numbers using next()\n",
    "for _ in range(20):\n",
    "  print(next(prime_generator))\n"
   ]
  },
  {
   "cell_type": "markdown",
   "id": "c4a225b1-a8cf-44be-8ced-337ecc1afeeb",
   "metadata": {},
   "source": [
    "Question 6"
   ]
  },
  {
   "cell_type": "code",
   "execution_count": 7,
   "id": "e107d928-c4a4-4281-8203-7477a88df82d",
   "metadata": {},
   "outputs": [
    {
     "name": "stdout",
     "output_type": "stream",
     "text": [
      "0\n",
      "1\n",
      "1\n",
      "2\n",
      "3\n",
      "5\n",
      "8\n",
      "13\n",
      "21\n",
      "34\n"
     ]
    }
   ],
   "source": [
    "# Initialize variables for Fibonacci sequence\n",
    "first_num = 0\n",
    "second_num = 1\n",
    "counter = 1\n",
    "\n",
    "# Loop until 10 Fibonacci numbers are printed\n",
    "while counter <= 10:\n",
    "  print(first_num)\n",
    "  # Calculate the next Fibonacci number\n",
    "  next_num = first_num + second_num\n",
    "  # Update first and second numbers for the next iteration\n",
    "  first_num = second_num\n",
    "  second_num = next_num\n",
    "  counter += 1\n"
   ]
  },
  {
   "cell_type": "markdown",
   "id": "89832c58-d654-4a27-ac12-941c056a8f5a",
   "metadata": {},
   "source": [
    "Question 7"
   ]
  },
  {
   "cell_type": "code",
   "execution_count": 8,
   "id": "d7b187c2-3aa2-484f-9b43-1323f9043ea8",
   "metadata": {},
   "outputs": [
    {
     "name": "stdout",
     "output_type": "stream",
     "text": [
      "['p', 'w', 's', 'k', 'i', 'l', 'l', 's']\n"
     ]
    }
   ],
   "source": [
    "# String to iterate through\n",
    "text = \"pwskills\"\n",
    "\n",
    "# List comprehension to iterate through the string\n",
    "characters = [char for char in text]\n",
    "\n",
    "# Print the list of characters\n",
    "print(characters)\n"
   ]
  },
  {
   "cell_type": "markdown",
   "id": "7834fe97-5d48-449b-8808-914199096b68",
   "metadata": {},
   "source": [
    "Question 8"
   ]
  },
  {
   "cell_type": "code",
   "execution_count": null,
   "id": "c6447ed9-99cb-4913-9a85-aacddf8236e5",
   "metadata": {},
   "outputs": [],
   "source": []
  },
  {
   "cell_type": "markdown",
   "id": "469fca50-f6df-47a6-a1f7-35b858aa20bc",
   "metadata": {},
   "source": [
    "Question 9:"
   ]
  },
  {
   "cell_type": "code",
   "execution_count": null,
   "id": "3efc25f3-c11b-4a01-9635-b73ac9da4205",
   "metadata": {},
   "outputs": [],
   "source": []
  }
 ],
 "metadata": {
  "kernelspec": {
   "display_name": "Python 3 (ipykernel)",
   "language": "python",
   "name": "python3"
  },
  "language_info": {
   "codemirror_mode": {
    "name": "ipython",
    "version": 3
   },
   "file_extension": ".py",
   "mimetype": "text/x-python",
   "name": "python",
   "nbconvert_exporter": "python",
   "pygments_lexer": "ipython3",
   "version": "3.10.8"
  }
 },
 "nbformat": 4,
 "nbformat_minor": 5
}
